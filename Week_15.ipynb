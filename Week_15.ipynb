{
 "cells": [
  {
   "cell_type": "code",
   "execution_count": null,
   "id": "900f3638",
   "metadata": {},
   "outputs": [],
   "source": [
    "import os\n",
    "import sys\n",
    "\n",
    "os.environ[\"JAVA_HOME\"] = \"JDK8\"\n",
    "os.environ[\"PYSPARK_PYTHON\"] = sys.executable\n",
    "os.environ[\"PYSPARK_DRIVER_PYTHON\"] = sys.executable"
   ]
  },
  {
   "cell_type": "code",
   "execution_count": null,
   "id": "6bfd7320",
   "metadata": {},
   "outputs": [],
   "source": [
    "#Importing the data from the URL source on Air Quality in the UK\n",
    "import requests\n",
    "import json\n",
    "import pandas as pd\n",
    "\n",
    "data = requests.get(\"https://maps2.bristol.gov.uk/server2/rest/services/ext/air_quality/MapServer/0/query?outFields=*&where=1%3D1&f=geojson\").json()\n",
    "data = pd.DataFrame(data[\"features\"])\n",
    "data"
   ]
  },
  {
   "cell_type": "code",
   "execution_count": null,
   "id": "27475258",
   "metadata": {},
   "outputs": [],
   "source": [
    "#Creates a function that can extract the columns we needs to perform actions on from the data\n",
    "def getSector(main_subject):   \n",
    "    return main_subject"
   ]
  },
  {
   "cell_type": "code",
   "execution_count": null,
   "id": "44f44ed6",
   "metadata": {},
   "outputs": [],
   "source": [
    "#Extracts the columns\n",
    "data[\"latitude\"] = data[\"geometry\"].apply(lambda deets : getSector(main_subject=deets[\"coordinates\"][0]))\n",
    "data[\"longitude\"] = data[\"geometry\"].apply(lambda deets : getSector(main_subject=deets[\"coordinates\"][1]))\n",
    "data[\"Pollutants\"] = data[\"properties\"].apply(lambda deets : getSector(main_subject=deets[\"pollutants\"]))\n",
    "data[\"Location\"] = data[\"properties\"].apply(lambda deets : getSector(main_subject=deets[\"location\"]))\n",
    "data[\"LocationType\"] = data[\"properties\"].apply(lambda deets : getSector(main_subject=deets[\"LocationClass\"]))\n",
    "data"
   ]
  },
  {
   "cell_type": "code",
   "execution_count": null,
   "id": "7a596174",
   "metadata": {},
   "outputs": [],
   "source": [
    "#Creates a funtion that normalizes the latitude and longitude columns \n",
    "def normalize(coordinate,min,max):    \n",
    "    new_coord = (coordinate-min)/(max-min)\n",
    "    return new_coord\n",
    "\n",
    "assert normalize(90,-90,90) == 1\n",
    "assert normalize(-180,-180,180) == 0"
   ]
  },
  {
   "cell_type": "code",
   "execution_count": null,
   "id": "2f83ccb5",
   "metadata": {},
   "outputs": [],
   "source": [
    "#Applies the normalize funtion to creat 2 new columns \n",
    "data[\"Norm_lat\"] = data.latitude.apply(normalize, min=-90,max=90)\n",
    "data[\"Norm_lon\"] = data.longitude.apply(normalize, min=-180,max=180)\n",
    "data.head(1)"
   ]
  },
  {
   "cell_type": "code",
   "execution_count": null,
   "id": "60a7e07c",
   "metadata": {},
   "outputs": [],
   "source": [
    "#Creates a new dataframe with selected cloumns\n",
    "selected_columns = ['id', 'Location', 'LocationType','Norm_lat','Norm_lon', 'Pollutants']\n",
    "new_df = data[selected_columns]\n",
    "new_df\n"
   ]
  },
  {
   "cell_type": "code",
   "execution_count": null,
   "id": "4b822150",
   "metadata": {},
   "outputs": [],
   "source": [
    "#Purs new dataframe into a csv file\n",
    "new_df.to_csv('ETL_assignment.csv', index=False)  # 'index=False' prevents writing row indices"
   ]
  }
 ],
 "metadata": {
  "kernelspec": {
   "display_name": "Python 3",
   "language": "python",
   "name": "python3"
  },
  "language_info": {
   "codemirror_mode": {
    "name": "ipython",
    "version": 3
   },
   "file_extension": ".py",
   "mimetype": "text/x-python",
   "name": "python",
   "nbconvert_exporter": "python",
   "pygments_lexer": "ipython3",
   "version": "3.11.0"
  }
 },
 "nbformat": 4,
 "nbformat_minor": 5
}
